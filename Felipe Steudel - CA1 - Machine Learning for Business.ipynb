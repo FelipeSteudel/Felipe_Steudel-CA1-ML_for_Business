{
 "cells": [
  {
   "cell_type": "markdown",
   "id": "30053e10-afb3-45e6-861b-a06bba9623c5",
   "metadata": {},
   "source": [
    "# Felipe Steudel - CA1 - Machine Learning for Business\n",
    "### INTRODUÇÃO\n",
    "A avaliação de dados educacionais é crucial para a criação de políticas públicas, o planejamento de investimentos e a promoção de uma sociedade mais justa. Em um cenário europeu, onde as desigualdades entre regiões e grupos sociais persistem, entender os níveis de educação pode fornecer dados valiosos para tomadas de decisões estratégicas.\n",
    "### MOTIVAÇÃO PARA O PROJETO\n",
    "A motivação para este projeto vem da necessidade de investigar as diferenças no nível educacional entre países, idades e gêneros na Europa. Com essa avaliação, busca-se reconhecer padrões, agrupamentos e potenciais disparidades que possam orientar futuras pesquisas ou iniciativas de aprimoramento por parte de instituições de ensino e governos.\n",
    "### DESCRIÇÃO DO PROBLEMA\n",
    "O conjunto de dados empregado inclui dados sobre o grau de instrução da população europeia, divididos por idade, gênero e localização geográfica. Education attainment is given by International Standard Classification of Education (ISCED11).  \n",
    "ISCED11 education levels are the following:  \n",
    "X - No schooling  \n",
    "0 - Early childhood education  \n",
    "1 - Primary education  \n",
    "2 - Lower secondary education  \n",
    "3 - Upper secondary education  \n",
    "4 - Post-secondary non-tertiary education  \n",
    "5 - Short-cycle tertiary education  \n",
    "6 - Bachelor’s or equivalent level  \n",
    "7 - Master’s or equivalent level  \n",
    "8 - Doctoral or equivalent level  \n",
    "9 - Not elsewhere classified  \n",
    "\n",
    "Devido à vasta quantidade e variedade dos dados, é um desafio identificar padrões pertinentes sem o uso de métodos adequados de análise e agrupamento. Portanto, o projeto visa utilizar algoritmos de aprendizado de máquina (especialmente de clusterização) para identificar agrupamentos naturais nos dados que possuam características semelhantes.\n",
    "### OBJETIVOS DO PROJETO\n",
    "Os objetivos centrais deste projeto são: \n",
    "•\tExecutar uma análise exploratório na base de dados de educação europeia;\n",
    "•\tUtilizar métodos de agrupamento para agrupar observações com atributos parecidos;\n",
    "•\tAnalisar o rendimento de variados algoritmos de agrupamento; \n",
    "•\tAnalisar os agrupamentos identificados para obter percepções pertinentes sobre o perfil educacional dos europeus. \n",
    "### JUSTIFICATIVA PARA O CONJUNTO DE DADOS ESCOLHIDO\n",
    "As informações foram obtidas do site oficial da União Europeia, Eurostat, e registradas na plataforma Kaggle. Ele proporciona uma fundamentação sólida e segura sobre o grau de instrução da população, sendo perfeito para usos em aprendizagem não supervisionada. A sua segmentação por idade, gênero e localização faz com que o conjunto seja particularmente eficaz para detectar padrões educacionais ocultos que não seriam facilmente identificados por análises tradicionais."
   ]
  },
  {
   "cell_type": "code",
   "execution_count": 1,
   "id": "9f605948-37bf-4e32-b095-8370e17c93ab",
   "metadata": {},
   "outputs": [],
   "source": [
    "import pandas as pd \n",
    "import numpy as np\n",
    "import seaborn as sns\n",
    "import matplotlib.pyplot as plt\n",
    "\n",
    "import warnings\n",
    "warnings.filterwarnings('ignore')"
   ]
  },
  {
   "cell_type": "markdown",
   "id": "76cc81c0-2d7f-4c7e-9fa6-35c352d24738",
   "metadata": {},
   "source": [
    "## Carregamento dos Dados"
   ]
  },
  {
   "cell_type": "code",
   "execution_count": 2,
   "id": "54bc416c-69b1-4bee-b06f-b5ae127e5a24",
   "metadata": {},
   "outputs": [],
   "source": [
    "df = pd.read_csv(\"population_by_education_level.csv\")"
   ]
  },
  {
   "cell_type": "code",
   "execution_count": 3,
   "id": "e918164f-fa73-49bb-b80f-3125ce31e31f",
   "metadata": {
    "scrolled": true
   },
   "outputs": [
    {
     "data": {
      "text/html": [
       "<div>\n",
       "<style scoped>\n",
       "    .dataframe tbody tr th:only-of-type {\n",
       "        vertical-align: middle;\n",
       "    }\n",
       "\n",
       "    .dataframe tbody tr th {\n",
       "        vertical-align: top;\n",
       "    }\n",
       "\n",
       "    .dataframe thead th {\n",
       "        text-align: right;\n",
       "    }\n",
       "</style>\n",
       "<table border=\"1\" class=\"dataframe\">\n",
       "  <thead>\n",
       "    <tr style=\"text-align: right;\">\n",
       "      <th></th>\n",
       "      <th>unit</th>\n",
       "      <th>sex</th>\n",
       "      <th>age</th>\n",
       "      <th>isced11</th>\n",
       "      <th>geography</th>\n",
       "      <th>date</th>\n",
       "      <th>value</th>\n",
       "    </tr>\n",
       "  </thead>\n",
       "  <tbody>\n",
       "    <tr>\n",
       "      <th>0</th>\n",
       "      <td>THS</td>\n",
       "      <td>F</td>\n",
       "      <td>Y15-19</td>\n",
       "      <td>ED0-2</td>\n",
       "      <td>AT</td>\n",
       "      <td>2020</td>\n",
       "      <td>149.8</td>\n",
       "    </tr>\n",
       "    <tr>\n",
       "      <th>1</th>\n",
       "      <td>THS</td>\n",
       "      <td>F</td>\n",
       "      <td>Y15-19</td>\n",
       "      <td>ED0-2</td>\n",
       "      <td>BE</td>\n",
       "      <td>2020</td>\n",
       "      <td>247.9</td>\n",
       "    </tr>\n",
       "    <tr>\n",
       "      <th>2</th>\n",
       "      <td>THS</td>\n",
       "      <td>F</td>\n",
       "      <td>Y15-19</td>\n",
       "      <td>ED0-2</td>\n",
       "      <td>BG</td>\n",
       "      <td>2020</td>\n",
       "      <td>128.4</td>\n",
       "    </tr>\n",
       "    <tr>\n",
       "      <th>3</th>\n",
       "      <td>THS</td>\n",
       "      <td>F</td>\n",
       "      <td>Y15-19</td>\n",
       "      <td>ED0-2</td>\n",
       "      <td>CH</td>\n",
       "      <td>2020</td>\n",
       "      <td>168.2</td>\n",
       "    </tr>\n",
       "    <tr>\n",
       "      <th>4</th>\n",
       "      <td>THS</td>\n",
       "      <td>F</td>\n",
       "      <td>Y15-19</td>\n",
       "      <td>ED0-2</td>\n",
       "      <td>CY</td>\n",
       "      <td>2020</td>\n",
       "      <td>16.8</td>\n",
       "    </tr>\n",
       "    <tr>\n",
       "      <th>...</th>\n",
       "      <td>...</td>\n",
       "      <td>...</td>\n",
       "      <td>...</td>\n",
       "      <td>...</td>\n",
       "      <td>...</td>\n",
       "      <td>...</td>\n",
       "      <td>...</td>\n",
       "    </tr>\n",
       "    <tr>\n",
       "      <th>609971</th>\n",
       "      <td>THS</td>\n",
       "      <td>T</td>\n",
       "      <td>Y65-69</td>\n",
       "      <td>TOTAL</td>\n",
       "      <td>SE</td>\n",
       "      <td>1983</td>\n",
       "      <td>NaN</td>\n",
       "    </tr>\n",
       "    <tr>\n",
       "      <th>609972</th>\n",
       "      <td>THS</td>\n",
       "      <td>T</td>\n",
       "      <td>Y65-69</td>\n",
       "      <td>TOTAL</td>\n",
       "      <td>SI</td>\n",
       "      <td>1983</td>\n",
       "      <td>NaN</td>\n",
       "    </tr>\n",
       "    <tr>\n",
       "      <th>609973</th>\n",
       "      <td>THS</td>\n",
       "      <td>T</td>\n",
       "      <td>Y65-69</td>\n",
       "      <td>TOTAL</td>\n",
       "      <td>SK</td>\n",
       "      <td>1983</td>\n",
       "      <td>NaN</td>\n",
       "    </tr>\n",
       "    <tr>\n",
       "      <th>609974</th>\n",
       "      <td>THS</td>\n",
       "      <td>T</td>\n",
       "      <td>Y65-69</td>\n",
       "      <td>TOTAL</td>\n",
       "      <td>TR</td>\n",
       "      <td>1983</td>\n",
       "      <td>NaN</td>\n",
       "    </tr>\n",
       "    <tr>\n",
       "      <th>609975</th>\n",
       "      <td>THS</td>\n",
       "      <td>T</td>\n",
       "      <td>Y65-69</td>\n",
       "      <td>TOTAL</td>\n",
       "      <td>UK</td>\n",
       "      <td>1983</td>\n",
       "      <td>2532.5</td>\n",
       "    </tr>\n",
       "  </tbody>\n",
       "</table>\n",
       "<p>609976 rows × 7 columns</p>\n",
       "</div>"
      ],
      "text/plain": [
       "       unit sex     age isced11 geography  date   value\n",
       "0       THS   F  Y15-19   ED0-2        AT  2020   149.8\n",
       "1       THS   F  Y15-19   ED0-2        BE  2020   247.9\n",
       "2       THS   F  Y15-19   ED0-2        BG  2020   128.4\n",
       "3       THS   F  Y15-19   ED0-2        CH  2020   168.2\n",
       "4       THS   F  Y15-19   ED0-2        CY  2020    16.8\n",
       "...     ...  ..     ...     ...       ...   ...     ...\n",
       "609971  THS   T  Y65-69   TOTAL        SE  1983     NaN\n",
       "609972  THS   T  Y65-69   TOTAL        SI  1983     NaN\n",
       "609973  THS   T  Y65-69   TOTAL        SK  1983     NaN\n",
       "609974  THS   T  Y65-69   TOTAL        TR  1983     NaN\n",
       "609975  THS   T  Y65-69   TOTAL        UK  1983  2532.5\n",
       "\n",
       "[609976 rows x 7 columns]"
      ]
     },
     "execution_count": 3,
     "metadata": {},
     "output_type": "execute_result"
    }
   ],
   "source": [
    "df"
   ]
  },
  {
   "cell_type": "markdown",
   "id": "9b0f4bdd-198f-4cfa-a14e-51314a107b43",
   "metadata": {},
   "source": [
    "## Informações Básicas"
   ]
  },
  {
   "cell_type": "code",
   "execution_count": 4,
   "id": "86d9306f-3f2c-45b8-8a56-81fbb12ad3d1",
   "metadata": {},
   "outputs": [
    {
     "data": {
      "text/plain": [
       "(609976, 7)"
      ]
     },
     "execution_count": 4,
     "metadata": {},
     "output_type": "execute_result"
    }
   ],
   "source": [
    "df.shape"
   ]
  },
  {
   "cell_type": "code",
   "execution_count": 5,
   "id": "2423b331-c159-4905-95a6-7e310b4cc44a",
   "metadata": {},
   "outputs": [
    {
     "name": "stdout",
     "output_type": "stream",
     "text": [
      "<class 'pandas.core.frame.DataFrame'>\n",
      "RangeIndex: 609976 entries, 0 to 609975\n",
      "Data columns (total 7 columns):\n",
      " #   Column     Non-Null Count   Dtype  \n",
      "---  ------     --------------   -----  \n",
      " 0   unit       609976 non-null  object \n",
      " 1   sex        609976 non-null  object \n",
      " 2   age        609976 non-null  object \n",
      " 3   isced11    609976 non-null  object \n",
      " 4   geography  609976 non-null  object \n",
      " 5   date       609976 non-null  int64  \n",
      " 6   value      361370 non-null  float64\n",
      "dtypes: float64(1), int64(1), object(5)\n",
      "memory usage: 32.6+ MB\n"
     ]
    }
   ],
   "source": [
    "df.info()"
   ]
  },
  {
   "cell_type": "code",
   "execution_count": 6,
   "id": "3114687a-fe6a-478b-9dc2-b2772e738218",
   "metadata": {
    "scrolled": true
   },
   "outputs": [
    {
     "data": {
      "text/html": [
       "<div>\n",
       "<style scoped>\n",
       "    .dataframe tbody tr th:only-of-type {\n",
       "        vertical-align: middle;\n",
       "    }\n",
       "\n",
       "    .dataframe tbody tr th {\n",
       "        vertical-align: top;\n",
       "    }\n",
       "\n",
       "    .dataframe thead th {\n",
       "        text-align: right;\n",
       "    }\n",
       "</style>\n",
       "<table border=\"1\" class=\"dataframe\">\n",
       "  <thead>\n",
       "    <tr style=\"text-align: right;\">\n",
       "      <th></th>\n",
       "      <th>date</th>\n",
       "      <th>value</th>\n",
       "    </tr>\n",
       "  </thead>\n",
       "  <tbody>\n",
       "    <tr>\n",
       "      <th>count</th>\n",
       "      <td>609976.000000</td>\n",
       "      <td>361370.000000</td>\n",
       "    </tr>\n",
       "    <tr>\n",
       "      <th>mean</th>\n",
       "      <td>2001.500000</td>\n",
       "      <td>4437.056919</td>\n",
       "    </tr>\n",
       "    <tr>\n",
       "      <th>std</th>\n",
       "      <td>10.965865</td>\n",
       "      <td>16716.155159</td>\n",
       "    </tr>\n",
       "    <tr>\n",
       "      <th>min</th>\n",
       "      <td>1983.000000</td>\n",
       "      <td>0.400000</td>\n",
       "    </tr>\n",
       "    <tr>\n",
       "      <th>25%</th>\n",
       "      <td>1992.000000</td>\n",
       "      <td>84.500000</td>\n",
       "    </tr>\n",
       "    <tr>\n",
       "      <th>50%</th>\n",
       "      <td>2001.500000</td>\n",
       "      <td>400.050000</td>\n",
       "    </tr>\n",
       "    <tr>\n",
       "      <th>75%</th>\n",
       "      <td>2011.000000</td>\n",
       "      <td>1947.575000</td>\n",
       "    </tr>\n",
       "    <tr>\n",
       "      <th>max</th>\n",
       "      <td>2020.000000</td>\n",
       "      <td>380593.300000</td>\n",
       "    </tr>\n",
       "  </tbody>\n",
       "</table>\n",
       "</div>"
      ],
      "text/plain": [
       "                date          value\n",
       "count  609976.000000  361370.000000\n",
       "mean     2001.500000    4437.056919\n",
       "std        10.965865   16716.155159\n",
       "min      1983.000000       0.400000\n",
       "25%      1992.000000      84.500000\n",
       "50%      2001.500000     400.050000\n",
       "75%      2011.000000    1947.575000\n",
       "max      2020.000000  380593.300000"
      ]
     },
     "execution_count": 6,
     "metadata": {},
     "output_type": "execute_result"
    }
   ],
   "source": [
    "df.describe()"
   ]
  },
  {
   "cell_type": "code",
   "execution_count": 7,
   "id": "19aec7bd-0616-4509-9ff8-217b7fb5b55c",
   "metadata": {},
   "outputs": [
    {
     "data": {
      "text/plain": [
       "0"
      ]
     },
     "execution_count": 7,
     "metadata": {},
     "output_type": "execute_result"
    }
   ],
   "source": [
    "df.duplicated().sum()"
   ]
  },
  {
   "cell_type": "markdown",
   "id": "49b7fa86-0dc7-42b4-ac3b-d9896510975b",
   "metadata": {},
   "source": [
    "Existem muitos dados \"T\" na variavel sexo, que representa a soma dos dados de ambos os sexos (M + F). Essa é a explicação mais comum em bases do Eurostat."
   ]
  },
  {
   "cell_type": "code",
   "execution_count": 8,
   "id": "b463fc18-fe8c-440a-9515-e06e78b23590",
   "metadata": {},
   "outputs": [
    {
     "data": {
      "text/plain": [
       "sex\n",
       "T    203680\n",
       "M    203376\n",
       "F    202920\n",
       "Name: count, dtype: int64"
      ]
     },
     "execution_count": 8,
     "metadata": {},
     "output_type": "execute_result"
    }
   ],
   "source": [
    "df['sex'].value_counts()"
   ]
  },
  {
   "cell_type": "markdown",
   "id": "421aea1e-7908-4e1a-a8d3-ffcc34537dc7",
   "metadata": {},
   "source": [
    "Existem valores \"TOTAL\" na variavel isced11, representando a soma dos dados total das faixas de Educacionais segunda a International Standard Classification of Education (ISCED11)\n",
    "Os valores \"NRP\" representam \"No Response Provided\", Isso indica que, para aquele registro, não houve uma resposta válida sobre o nível educacional. Pode ser um dado faltante."
   ]
  },
  {
   "cell_type": "code",
   "execution_count": 9,
   "id": "027d25bc-e3d2-493b-8e42-ebc8097458f5",
   "metadata": {},
   "outputs": [
    {
     "data": {
      "text/plain": [
       "isced11\n",
       "ED0-2    128934\n",
       "ED3_4    128934\n",
       "TOTAL    128934\n",
       "ED5-8    128402\n",
       "NRP       94772\n",
       "Name: count, dtype: int64"
      ]
     },
     "execution_count": 9,
     "metadata": {},
     "output_type": "execute_result"
    }
   ],
   "source": [
    "df['isced11'].value_counts()"
   ]
  },
  {
   "cell_type": "code",
   "execution_count": 10,
   "id": "6705a2a1-1fcf-4111-b9ec-91bcc923bb6d",
   "metadata": {},
   "outputs": [
    {
     "data": {
      "text/plain": [
       "age\n",
       "Y15-39    21356\n",
       "Y15-59    21356\n",
       "Y15-64    21356\n",
       "Y15-74    21356\n",
       "Y15-24    21356\n",
       "Y20-64    21166\n",
       "Y25-74    21090\n",
       "Y25-49    21090\n",
       "Y25-64    21090\n",
       "Y25-59    21090\n",
       "Y25-54    21090\n",
       "Y25-39    21090\n",
       "Y25-29    21052\n",
       "Y20-24    21014\n",
       "Y35-39    21014\n",
       "Y50-74    20976\n",
       "Y40-44    20976\n",
       "Y40-59    20976\n",
       "Y40-64    20976\n",
       "Y45-49    20976\n",
       "Y50-59    20938\n",
       "Y50-64    20938\n",
       "Y65-69    20938\n",
       "Y50-54    20938\n",
       "Y30-34    20862\n",
       "Y55-64    20824\n",
       "Y60-64    20786\n",
       "Y55-59    20748\n",
       "Y15-19    20558\n",
       "Name: count, dtype: int64"
      ]
     },
     "execution_count": 10,
     "metadata": {},
     "output_type": "execute_result"
    }
   ],
   "source": [
    "df['age'].value_counts()"
   ]
  },
  {
   "cell_type": "markdown",
   "id": "a688c9fd-5bc9-4766-a555-083dd0648c66",
   "metadata": {},
   "source": [
    "Existem valores 'EU15', 'EA19', 'EU27_2020', 'EU28' que representam dados agregados de paises dentro União Europeia ou da Zona do Euro"
   ]
  },
  {
   "cell_type": "code",
   "execution_count": 11,
   "id": "84590bb5-52d5-4db7-bdcf-af096e565422",
   "metadata": {},
   "outputs": [
    {
     "data": {
      "text/plain": [
       "geography\n",
       "IE           16530\n",
       "EU28         16530\n",
       "SI           16530\n",
       "SE           16530\n",
       "PT           16530\n",
       "NO           16530\n",
       "NL           16530\n",
       "LU           16530\n",
       "IT           16530\n",
       "IS           16530\n",
       "BE           16530\n",
       "HU           16530\n",
       "FR           16530\n",
       "FI           16530\n",
       "UK           16530\n",
       "EU27_2020    16530\n",
       "EU15         16530\n",
       "CH           16530\n",
       "ES           16530\n",
       "EL           16530\n",
       "CZ           16530\n",
       "EA19         16530\n",
       "DE           16530\n",
       "DK           16530\n",
       "LV           16492\n",
       "AT           16340\n",
       "EE           16112\n",
       "HR           15960\n",
       "MT           14896\n",
       "LT           13908\n",
       "TR           13680\n",
       "RO           13642\n",
       "MK           13224\n",
       "CY           13224\n",
       "BG           13224\n",
       "SK           13224\n",
       "ME           13110\n",
       "PL           13110\n",
       "RS           13110\n",
       "Name: count, dtype: int64"
      ]
     },
     "execution_count": 11,
     "metadata": {},
     "output_type": "execute_result"
    }
   ],
   "source": [
    "df['geography'].value_counts()"
   ]
  },
  {
   "cell_type": "code",
   "execution_count": 12,
   "id": "4c9f905a-22ea-4a99-84d8-1fb4fb3383e5",
   "metadata": {},
   "outputs": [
    {
     "data": {
      "text/plain": [
       "date\n",
       "2020    16052\n",
       "1992    16052\n",
       "1999    16052\n",
       "1998    16052\n",
       "1997    16052\n",
       "1996    16052\n",
       "1995    16052\n",
       "1994    16052\n",
       "1993    16052\n",
       "1991    16052\n",
       "2019    16052\n",
       "1990    16052\n",
       "1989    16052\n",
       "1988    16052\n",
       "1987    16052\n",
       "1986    16052\n",
       "1985    16052\n",
       "1984    16052\n",
       "2000    16052\n",
       "2001    16052\n",
       "2002    16052\n",
       "2003    16052\n",
       "2018    16052\n",
       "2017    16052\n",
       "2016    16052\n",
       "2015    16052\n",
       "2014    16052\n",
       "2013    16052\n",
       "2012    16052\n",
       "2011    16052\n",
       "2010    16052\n",
       "2009    16052\n",
       "2008    16052\n",
       "2007    16052\n",
       "2006    16052\n",
       "2005    16052\n",
       "2004    16052\n",
       "1983    16052\n",
       "Name: count, dtype: int64"
      ]
     },
     "execution_count": 12,
     "metadata": {},
     "output_type": "execute_result"
    }
   ],
   "source": [
    "df['date'].value_counts()"
   ]
  },
  {
   "cell_type": "markdown",
   "id": "8baf2484-a190-4428-988a-39e58c9d52ac",
   "metadata": {},
   "source": [
    "### Visualização de Distribuições"
   ]
  },
  {
   "cell_type": "code",
   "execution_count": 13,
   "id": "a5044b05-244e-4fb1-803c-f04aa7e00887",
   "metadata": {},
   "outputs": [
    {
     "data": {
      "image/png": "[encoded data removed]",
      "text/plain": [
       "<Figure size 640x480 with 1 Axes>"
      ]
     },
     "metadata": {},
     "output_type": "display_data"
    }
   ],
   "source": [
    "# Histograma do nível educacional (se for numérico ou percentual)\n",
    "sns.histplot(df['value'], kde=True)\n",
    "plt.title('Distribuição dos Níveis de Escolaridade')\n",
    "plt.show()"
   ]
  },
  {
   "cell_type": "code",
   "execution_count": 14,
   "id": "53cb37a0-63ca-45d3-8d93-6c47b45e73f9",
   "metadata": {},
   "outputs": [
    {
     "data": {
      "text/plain": [
       "<Axes: xlabel='sex', ylabel='value'>"
      ]
     },
     "execution_count": 14,
     "metadata": {},
     "output_type": "execute_result"
    },
    {
     "data": {
      "image/png": "[encoded data removed]",
      "text/plain": [
       "<Figure size 640x480 with 1 Axes>"
      ]
     },
     "metadata": {},
     "output_type": "display_data"
    }
   ],
   "source": [
    "# Boxplot por sexo\n",
    "sns.boxplot(data=df, x='sex', y='value')"
   ]
  },
  {
   "cell_type": "code",
   "execution_count": 15,
   "id": "58122048-16b7-4920-bb20-c8055f3cf7f0",
   "metadata": {},
   "outputs": [],
   "source": [
    "# Distribuição Geográfica\n",
    "\n",
    "# Dicionário de mapeamento de siglas para nomes completos (você pode ajustar conforme necessário)\n",
    "country_mapping = {\n",
    "    'AT': 'Austria', \n",
    "    'BE': 'Belgium',\n",
    "    'BG': 'Bulgaria',\n",
    "    'CY': 'Cyprus',\n",
    "    'CZ': 'Czech Republic',\n",
    "    'DE': 'Germany',\n",
    "    'DK': 'Denmark',\n",
    "    'EE': 'Estonia',\n",
    "    'EL': 'Greece',\n",
    "    'ES': 'Spain',\n",
    "    'FI': 'Finland',\n",
    "    'FR': 'France',\n",
    "    'HR': 'Croatia',\n",
    "    'HU': 'Hungary',\n",
    "    'IE': 'Ireland',\n",
    "    'IT': 'Italy',\n",
    "    'LT': 'Lithuania',\n",
    "    'LU': 'Luxembourg',\n",
    "    'LV': 'Latvia',\n",
    "    'MT': 'Malta',\n",
    "    'NL': 'Netherlands',\n",
    "    'PL': 'Poland',\n",
    "    'PT': 'Portugal',\n",
    "    'RO': 'Romania',\n",
    "    'SE': 'Sweden',\n",
    "    'SI': 'Slovenia',\n",
    "    'SK': 'Slovakia'\n",
    "}"
   ]
  },
  {
   "cell_type": "code",
   "execution_count": 17,
   "id": "b4da4dd9-10b8-4f87-9c89-66bcdf839843",
   "metadata": {},
   "outputs": [
    {
     "data": {
      "image/png": "[encoded data removed]",
      "text/plain": [
       "<Figure size 1200x600 with 1 Axes>"
      ]
     },
     "metadata": {},
     "output_type": "display_data"
    }
   ],
   "source": [
    "# Calcular a média de escolaridade por país\n",
    "df_geo = df.groupby('geography')['value'].mean().sort_values(ascending=False)\n",
    "\n",
    "# Substituir siglas por nomes completos dos países\n",
    "df_geo.index = df_geo.index.map(country_mapping)\n",
    "\n",
    "# Plotar o gráfico de barras\n",
    "df_geo.plot(kind='bar', figsize=(12,6), color='skyblue', title='Média de Escolaridade por País')\n",
    "plt.ylabel('Valor médio de escolaridade (%)')\n",
    "plt.xticks(rotation=45, ha='right')\n",
    "plt.show()"
   ]
  },
  {
   "cell_type": "markdown",
   "id": "aea5a240-b846-4591-b610-62f8900ab272",
   "metadata": {},
   "source": [
    "## Análise de Valores Faltantes (NaN)"
   ]
  },
  {
   "cell_type": "code",
   "execution_count": 18,
   "id": "11520a9c-634a-4ca7-81b8-53402e8627f1",
   "metadata": {
    "scrolled": true
   },
   "outputs": [
    {
     "data": {
      "text/plain": [
       "unit              0\n",
       "sex               0\n",
       "age               0\n",
       "isced11           0\n",
       "geography         0\n",
       "date              0\n",
       "value        248606\n",
       "dtype: int64"
      ]
     },
     "execution_count": 18,
     "metadata": {},
     "output_type": "execute_result"
    }
   ],
   "source": [
    "df.isnull().sum()"
   ]
  },
  {
   "cell_type": "markdown",
   "id": "1cbf866a-f687-4bf6-99bd-0745f9c40bd1",
   "metadata": {},
   "source": [
    "### Dados \"T\" de sexo são apagados"
   ]
  },
  {
   "cell_type": "code",
   "execution_count": 19,
   "id": "c5ad3486-7e69-4a1f-bf79-c0f562372372",
   "metadata": {},
   "outputs": [
    {
     "name": "stdout",
     "output_type": "stream",
     "text": [
      "['F' 'M']\n"
     ]
    }
   ],
   "source": [
    "df = df[df['sex'] != 'T']\n",
    "print(df['sex'].unique())"
   ]
  },
  {
   "cell_type": "markdown",
   "id": "0fdd846e-464a-489e-964a-89c530a9275e",
   "metadata": {},
   "source": [
    "### Dados \"TOTAL\" de isced11 são apagados"
   ]
  },
  {
   "cell_type": "code",
   "execution_count": 20,
   "id": "e0c0698c-5e62-40c6-ae18-027a677bdf10",
   "metadata": {
    "scrolled": true
   },
   "outputs": [
    {
     "name": "stdout",
     "output_type": "stream",
     "text": [
      "['ED0-2' 'ED3_4' 'ED5-8' 'NRP']\n"
     ]
    }
   ],
   "source": [
    "df = df[df['isced11'] != 'TOTAL']\n",
    "print(df['isced11'].unique())"
   ]
  },
  {
   "cell_type": "markdown",
   "id": "8f27df6b-f375-4dd1-b30b-5d2fb8038de3",
   "metadata": {},
   "source": [
    "### Os valores agregados da União Européia e zona do Euro são apagados"
   ]
  },
  {
   "cell_type": "code",
   "execution_count": 21,
   "id": "37f0e44c-0e2a-408c-bab4-7c5e3d9ed869",
   "metadata": {},
   "outputs": [
    {
     "name": "stdout",
     "output_type": "stream",
     "text": [
      "['AT' 'BE' 'BG' 'CH' 'CY' 'CZ' 'DE' 'DK' 'EE' 'EL' 'ES' 'FI' 'FR' 'HR'\n",
      " 'HU' 'IE' 'IS' 'IT' 'LT' 'LU' 'LV' 'ME' 'MK' 'MT' 'NL' 'NO' 'PL' 'PT'\n",
      " 'RO' 'RS' 'SE' 'SI' 'SK' 'TR' 'UK']\n"
     ]
    }
   ],
   "source": [
    "df = df[~df['geography'].isin(['EU15', 'EA19', 'EU27_2020', 'EU28'])]\n",
    "print(df['geography'].unique())"
   ]
  },
  {
   "cell_type": "markdown",
   "id": "f24c102e-9988-4812-be71-763e2cf06533",
   "metadata": {},
   "source": [
    "### Apaga todos os registros NaN de Value"
   ]
  },
  {
   "cell_type": "code",
   "execution_count": 22,
   "id": "f5c6184a-eee1-4c1b-93e3-be721965cc51",
   "metadata": {},
   "outputs": [],
   "source": [
    "df = df.dropna(subset=['value'])"
   ]
  },
  {
   "cell_type": "code",
   "execution_count": 23,
   "id": "ca625965-a500-44c9-8ea8-6d85e24c1045",
   "metadata": {},
   "outputs": [
    {
     "name": "stdout",
     "output_type": "stream",
     "text": [
      "<class 'pandas.core.frame.DataFrame'>\n",
      "Index: 160846 entries, 0 to 604576\n",
      "Data columns (total 7 columns):\n",
      " #   Column     Non-Null Count   Dtype  \n",
      "---  ------     --------------   -----  \n",
      " 0   unit       160846 non-null  object \n",
      " 1   sex        160846 non-null  object \n",
      " 2   age        160846 non-null  object \n",
      " 3   isced11    160846 non-null  object \n",
      " 4   geography  160846 non-null  object \n",
      " 5   date       160846 non-null  int64  \n",
      " 6   value      160846 non-null  float64\n",
      "dtypes: float64(1), int64(1), object(5)\n",
      "memory usage: 9.8+ MB\n"
     ]
    }
   ],
   "source": [
    "df.info()"
   ]
  },
  {
   "cell_type": "markdown",
   "id": "0ec3d446-27a9-402b-a26e-087e8d176252",
   "metadata": {},
   "source": [
    "## Pré-processamento e Implementação dos Algoritmos\n",
    "Antes de aplicar os algoritmos, é essencial padronizar os dados"
   ]
  },
  {
   "cell_type": "code",
   "execution_count": null,
   "id": "3d7b8c10-7969-4dd0-a8d4-17cfdec305ad",
   "metadata": {},
   "outputs": [],
   "source": [
    "from sklearn.preprocessing import StandardScaler\n",
    "\n",
    "scaler = StandardScaler()\n",
    "\n",
    "X = df[['value']]\n",
    "X_scaled = scaler.fit_transform(X)\n",
    "\n"
   ]
  },
  {
   "cell_type": "markdown",
   "id": "01583ba5-e856-4054-b418-603d07ceb3f2",
   "metadata": {},
   "source": [
    "### K-Means"
   ]
  },
  {
   "cell_type": "code",
   "execution_count": null,
   "id": "48365542-4080-4790-9305-320c3788e68e",
   "metadata": {},
   "outputs": [],
   "source": [
    "from sklearn.cluster import KMeans\n",
    "from sklearn.metrics import silhouette_score, davies_bouldin_score\n",
    "\n",
    "kmeans = KMeans(n_clusters=4, random_state=42)\n",
    "kmeans_labels = kmeans.fit_predict(X_scaled)\n",
    "\n",
    "silhouette_kmeans = silhouette_score(X_scaled, kmeans_labels)\n",
    "davies_kmeans = davies_bouldin_score(X_scaled, kmeans_labels)\n",
    "\n",
    "print(f\"K-Means - Silhouette Score: {silhouette_kmeans:.3f}\")\n",
    "print(f\"K-Means - Davies-Bouldin Index: {davies_kmeans:.3f}\")"
   ]
  },
  {
   "cell_type": "markdown",
   "id": "8c193256-4301-4aaa-98cf-3c808efe0946",
   "metadata": {},
   "source": [
    "### Redução dos Dados\n",
    "A redução dos dados para 10.000 amostras é necessário para diminuir o consumo de memoria RAM."
   ]
  },
  {
   "cell_type": "code",
   "execution_count": null,
   "id": "05a76e15-b482-41e9-bd43-5b39002396ec",
   "metadata": {},
   "outputs": [],
   "source": [
    "from sklearn.utils import resample\n",
    "\n",
    "# Reduzir para, por exemplo, 10.000 amostras\n",
    "X_sample = resample(X_scaled, n_samples=10000, random_state=42)\n",
    "\n"
   ]
  },
  {
   "cell_type": "code",
   "execution_count": null,
   "id": "03d412e6-eb29-4af7-adfb-2f46f929d81b",
   "metadata": {},
   "outputs": [],
   "source": [
    "agglo = AgglomerativeClustering(n_clusters=4, linkage='ward')\n",
    "agglo_labels = agglo.fit_predict(X_sample)\n",
    "\n",
    "silhouette_agglo = silhouette_score(X_sample, agglo_labels)\n",
    "davies_agglo = davies_bouldin_score(X_sample, agglo_labels)\n",
    "\n",
    "print(f\"Agglomerative - Silhouette Score: {silhouette_agglo:.3f}\")\n",
    "print(f\"Agglomerative - Davies-Bouldin Index: {davies_agglo:.3f}\")"
   ]
  },
  {
   "cell_type": "code",
   "execution_count": null,
   "id": "45604dbe-6929-4500-84f7-5e0cd8e68049",
   "metadata": {},
   "outputs": [],
   "source": []
  }
 ],
 "metadata": {
  "kernelspec": {
   "display_name": "Python 3 (ipykernel)",
   "language": "python",
   "name": "python3"
  },
  "language_info": {
   "codemirror_mode": {
    "name": "ipython",
    "version": 3
   },
   "file_extension": ".py",
   "mimetype": "text/x-python",
   "name": "python",
   "nbconvert_exporter": "python",
   "pygments_lexer": "ipython3",
   "version": "3.9.19"
  }
 },
 "nbformat": 4,
 "nbformat_minor": 5
}
