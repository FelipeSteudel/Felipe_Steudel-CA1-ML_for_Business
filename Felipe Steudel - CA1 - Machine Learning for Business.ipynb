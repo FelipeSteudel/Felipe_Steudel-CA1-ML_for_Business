{
 "cells": [
  {
   "cell_type": "code",
   "execution_count": 1,
   "id": "9f605948-37bf-4e32-b095-8370e17c93ab",
   "metadata": {},
   "outputs": [],
   "source": [
    "import pandas as pd \n",
    "import numpy as np\n",
    "\n",
    "import warnings\n",
    "warnings.filterwarnings('ignore')"
   ]
  },
  {
   "cell_type": "code",
   "execution_count": 2,
   "id": "54bc416c-69b1-4bee-b06f-b5ae127e5a24",
   "metadata": {},
   "outputs": [],
   "source": [
    "df = pd.read_csv(\"population_by_education_level.csv\")"
   ]
  },
  {
   "cell_type": "code",
   "execution_count": 3,
   "id": "e918164f-fa73-49bb-b80f-3125ce31e31f",
   "metadata": {},
   "outputs": [
    {
     "data": {
      "text/html": [
       "<div>\n",
       "<style scoped>\n",
       "    .dataframe tbody tr th:only-of-type {\n",
       "        vertical-align: middle;\n",
       "    }\n",
       "\n",
       "    .dataframe tbody tr th {\n",
       "        vertical-align: top;\n",
       "    }\n",
       "\n",
       "    .dataframe thead th {\n",
       "        text-align: right;\n",
       "    }\n",
       "</style>\n",
       "<table border=\"1\" class=\"dataframe\">\n",
       "  <thead>\n",
       "    <tr style=\"text-align: right;\">\n",
       "      <th></th>\n",
       "      <th>unit</th>\n",
       "      <th>sex</th>\n",
       "      <th>age</th>\n",
       "      <th>isced11</th>\n",
       "      <th>geography</th>\n",
       "      <th>date</th>\n",
       "      <th>value</th>\n",
       "    </tr>\n",
       "  </thead>\n",
       "  <tbody>\n",
       "    <tr>\n",
       "      <th>0</th>\n",
       "      <td>THS</td>\n",
       "      <td>F</td>\n",
       "      <td>Y15-19</td>\n",
       "      <td>ED0-2</td>\n",
       "      <td>AT</td>\n",
       "      <td>2020</td>\n",
       "      <td>149.8</td>\n",
       "    </tr>\n",
       "    <tr>\n",
       "      <th>1</th>\n",
       "      <td>THS</td>\n",
       "      <td>F</td>\n",
       "      <td>Y15-19</td>\n",
       "      <td>ED0-2</td>\n",
       "      <td>BE</td>\n",
       "      <td>2020</td>\n",
       "      <td>247.9</td>\n",
       "    </tr>\n",
       "    <tr>\n",
       "      <th>2</th>\n",
       "      <td>THS</td>\n",
       "      <td>F</td>\n",
       "      <td>Y15-19</td>\n",
       "      <td>ED0-2</td>\n",
       "      <td>BG</td>\n",
       "      <td>2020</td>\n",
       "      <td>128.4</td>\n",
       "    </tr>\n",
       "    <tr>\n",
       "      <th>3</th>\n",
       "      <td>THS</td>\n",
       "      <td>F</td>\n",
       "      <td>Y15-19</td>\n",
       "      <td>ED0-2</td>\n",
       "      <td>CH</td>\n",
       "      <td>2020</td>\n",
       "      <td>168.2</td>\n",
       "    </tr>\n",
       "    <tr>\n",
       "      <th>4</th>\n",
       "      <td>THS</td>\n",
       "      <td>F</td>\n",
       "      <td>Y15-19</td>\n",
       "      <td>ED0-2</td>\n",
       "      <td>CY</td>\n",
       "      <td>2020</td>\n",
       "      <td>16.8</td>\n",
       "    </tr>\n",
       "  </tbody>\n",
       "</table>\n",
       "</div>"
      ],
      "text/plain": [
       "  unit sex     age isced11 geography  date  value\n",
       "0  THS   F  Y15-19   ED0-2        AT  2020  149.8\n",
       "1  THS   F  Y15-19   ED0-2        BE  2020  247.9\n",
       "2  THS   F  Y15-19   ED0-2        BG  2020  128.4\n",
       "3  THS   F  Y15-19   ED0-2        CH  2020  168.2\n",
       "4  THS   F  Y15-19   ED0-2        CY  2020   16.8"
      ]
     },
     "execution_count": 3,
     "metadata": {},
     "output_type": "execute_result"
    }
   ],
   "source": [
    "df.head()"
   ]
  },
  {
   "cell_type": "code",
   "execution_count": 4,
   "id": "d7cba265-b09c-49a3-99d8-84380ebf0d32",
   "metadata": {},
   "outputs": [
    {
     "data": {
      "text/html": [
       "<div>\n",
       "<style scoped>\n",
       "    .dataframe tbody tr th:only-of-type {\n",
       "        vertical-align: middle;\n",
       "    }\n",
       "\n",
       "    .dataframe tbody tr th {\n",
       "        vertical-align: top;\n",
       "    }\n",
       "\n",
       "    .dataframe thead th {\n",
       "        text-align: right;\n",
       "    }\n",
       "</style>\n",
       "<table border=\"1\" class=\"dataframe\">\n",
       "  <thead>\n",
       "    <tr style=\"text-align: right;\">\n",
       "      <th></th>\n",
       "      <th>unit</th>\n",
       "      <th>sex</th>\n",
       "      <th>age</th>\n",
       "      <th>isced11</th>\n",
       "      <th>geography</th>\n",
       "      <th>date</th>\n",
       "      <th>value</th>\n",
       "    </tr>\n",
       "  </thead>\n",
       "  <tbody>\n",
       "    <tr>\n",
       "      <th>609971</th>\n",
       "      <td>THS</td>\n",
       "      <td>T</td>\n",
       "      <td>Y65-69</td>\n",
       "      <td>TOTAL</td>\n",
       "      <td>SE</td>\n",
       "      <td>1983</td>\n",
       "      <td>NaN</td>\n",
       "    </tr>\n",
       "    <tr>\n",
       "      <th>609972</th>\n",
       "      <td>THS</td>\n",
       "      <td>T</td>\n",
       "      <td>Y65-69</td>\n",
       "      <td>TOTAL</td>\n",
       "      <td>SI</td>\n",
       "      <td>1983</td>\n",
       "      <td>NaN</td>\n",
       "    </tr>\n",
       "    <tr>\n",
       "      <th>609973</th>\n",
       "      <td>THS</td>\n",
       "      <td>T</td>\n",
       "      <td>Y65-69</td>\n",
       "      <td>TOTAL</td>\n",
       "      <td>SK</td>\n",
       "      <td>1983</td>\n",
       "      <td>NaN</td>\n",
       "    </tr>\n",
       "    <tr>\n",
       "      <th>609974</th>\n",
       "      <td>THS</td>\n",
       "      <td>T</td>\n",
       "      <td>Y65-69</td>\n",
       "      <td>TOTAL</td>\n",
       "      <td>TR</td>\n",
       "      <td>1983</td>\n",
       "      <td>NaN</td>\n",
       "    </tr>\n",
       "    <tr>\n",
       "      <th>609975</th>\n",
       "      <td>THS</td>\n",
       "      <td>T</td>\n",
       "      <td>Y65-69</td>\n",
       "      <td>TOTAL</td>\n",
       "      <td>UK</td>\n",
       "      <td>1983</td>\n",
       "      <td>2532.5</td>\n",
       "    </tr>\n",
       "  </tbody>\n",
       "</table>\n",
       "</div>"
      ],
      "text/plain": [
       "       unit sex     age isced11 geography  date   value\n",
       "609971  THS   T  Y65-69   TOTAL        SE  1983     NaN\n",
       "609972  THS   T  Y65-69   TOTAL        SI  1983     NaN\n",
       "609973  THS   T  Y65-69   TOTAL        SK  1983     NaN\n",
       "609974  THS   T  Y65-69   TOTAL        TR  1983     NaN\n",
       "609975  THS   T  Y65-69   TOTAL        UK  1983  2532.5"
      ]
     },
     "execution_count": 4,
     "metadata": {},
     "output_type": "execute_result"
    }
   ],
   "source": [
    "df.tail()"
   ]
  },
  {
   "cell_type": "code",
   "execution_count": 5,
   "id": "86d9306f-3f2c-45b8-8a56-81fbb12ad3d1",
   "metadata": {},
   "outputs": [
    {
     "data": {
      "text/plain": [
       "(609976, 7)"
      ]
     },
     "execution_count": 5,
     "metadata": {},
     "output_type": "execute_result"
    }
   ],
   "source": [
    "df.shape"
   ]
  },
  {
   "cell_type": "code",
   "execution_count": 6,
   "id": "2423b331-c159-4905-95a6-7e310b4cc44a",
   "metadata": {},
   "outputs": [
    {
     "name": "stdout",
     "output_type": "stream",
     "text": [
      "<class 'pandas.core.frame.DataFrame'>\n",
      "RangeIndex: 609976 entries, 0 to 609975\n",
      "Data columns (total 7 columns):\n",
      " #   Column     Non-Null Count   Dtype  \n",
      "---  ------     --------------   -----  \n",
      " 0   unit       609976 non-null  object \n",
      " 1   sex        609976 non-null  object \n",
      " 2   age        609976 non-null  object \n",
      " 3   isced11    609976 non-null  object \n",
      " 4   geography  609976 non-null  object \n",
      " 5   date       609976 non-null  int64  \n",
      " 6   value      361370 non-null  float64\n",
      "dtypes: float64(1), int64(1), object(5)\n",
      "memory usage: 32.6+ MB\n"
     ]
    }
   ],
   "source": [
    "df.info()"
   ]
  },
  {
   "cell_type": "code",
   "execution_count": 7,
   "id": "3114687a-fe6a-478b-9dc2-b2772e738218",
   "metadata": {},
   "outputs": [
    {
     "data": {
      "text/html": [
       "<div>\n",
       "<style scoped>\n",
       "    .dataframe tbody tr th:only-of-type {\n",
       "        vertical-align: middle;\n",
       "    }\n",
       "\n",
       "    .dataframe tbody tr th {\n",
       "        vertical-align: top;\n",
       "    }\n",
       "\n",
       "    .dataframe thead th {\n",
       "        text-align: right;\n",
       "    }\n",
       "</style>\n",
       "<table border=\"1\" class=\"dataframe\">\n",
       "  <thead>\n",
       "    <tr style=\"text-align: right;\">\n",
       "      <th></th>\n",
       "      <th>date</th>\n",
       "      <th>value</th>\n",
       "    </tr>\n",
       "  </thead>\n",
       "  <tbody>\n",
       "    <tr>\n",
       "      <th>count</th>\n",
       "      <td>609976.000000</td>\n",
       "      <td>361370.000000</td>\n",
       "    </tr>\n",
       "    <tr>\n",
       "      <th>mean</th>\n",
       "      <td>2001.500000</td>\n",
       "      <td>4437.056919</td>\n",
       "    </tr>\n",
       "    <tr>\n",
       "      <th>std</th>\n",
       "      <td>10.965865</td>\n",
       "      <td>16716.155159</td>\n",
       "    </tr>\n",
       "    <tr>\n",
       "      <th>min</th>\n",
       "      <td>1983.000000</td>\n",
       "      <td>0.400000</td>\n",
       "    </tr>\n",
       "    <tr>\n",
       "      <th>25%</th>\n",
       "      <td>1992.000000</td>\n",
       "      <td>84.500000</td>\n",
       "    </tr>\n",
       "    <tr>\n",
       "      <th>50%</th>\n",
       "      <td>2001.500000</td>\n",
       "      <td>400.050000</td>\n",
       "    </tr>\n",
       "    <tr>\n",
       "      <th>75%</th>\n",
       "      <td>2011.000000</td>\n",
       "      <td>1947.575000</td>\n",
       "    </tr>\n",
       "    <tr>\n",
       "      <th>max</th>\n",
       "      <td>2020.000000</td>\n",
       "      <td>380593.300000</td>\n",
       "    </tr>\n",
       "  </tbody>\n",
       "</table>\n",
       "</div>"
      ],
      "text/plain": [
       "                date          value\n",
       "count  609976.000000  361370.000000\n",
       "mean     2001.500000    4437.056919\n",
       "std        10.965865   16716.155159\n",
       "min      1983.000000       0.400000\n",
       "25%      1992.000000      84.500000\n",
       "50%      2001.500000     400.050000\n",
       "75%      2011.000000    1947.575000\n",
       "max      2020.000000  380593.300000"
      ]
     },
     "execution_count": 7,
     "metadata": {},
     "output_type": "execute_result"
    }
   ],
   "source": [
    "df.describe()"
   ]
  },
  {
   "cell_type": "code",
   "execution_count": 8,
   "id": "11520a9c-634a-4ca7-81b8-53402e8627f1",
   "metadata": {},
   "outputs": [
    {
     "data": {
      "text/plain": [
       "unit              0\n",
       "sex               0\n",
       "age               0\n",
       "isced11           0\n",
       "geography         0\n",
       "date              0\n",
       "value        248606\n",
       "dtype: int64"
      ]
     },
     "execution_count": 8,
     "metadata": {},
     "output_type": "execute_result"
    }
   ],
   "source": [
    "df.isnull().sum()"
   ]
  },
  {
   "cell_type": "markdown",
   "id": "b7397e77-4d9f-405d-8bad-af38c0e0cf98",
   "metadata": {},
   "source": [
    "## Exploração Inicial dos Dados"
   ]
  },
  {
   "cell_type": "markdown",
   "id": "49b7fa86-0dc7-42b4-ac3b-d9896510975b",
   "metadata": {},
   "source": [
    "Existem muitos dados \"T\" na variavel sexo, que representa a soma dos dados de ambos os sexos (M + F). Essa é a explicação mais comum em bases do Eurostat."
   ]
  },
  {
   "cell_type": "code",
   "execution_count": null,
   "id": "b463fc18-fe8c-440a-9515-e06e78b23590",
   "metadata": {},
   "outputs": [],
   "source": [
    "df['sex'].value_counts()"
   ]
  },
  {
   "cell_type": "markdown",
   "id": "421aea1e-7908-4e1a-a8d3-ffcc34537dc7",
   "metadata": {},
   "source": [
    "Existem valores \"TOTAL\" na variavel isced11, representando a soma dos dados total das faixas de Educacionais segunda a International Standard Classification of Education (ISCED11)\n",
    "Os valores \"NRP\" representam \"No Response Provided\", Isso indica que, para aquele registro, não houve uma resposta válida sobre o nível educacional. Pode ser um dado faltante."
   ]
  },
  {
   "cell_type": "code",
   "execution_count": 12,
   "id": "027d25bc-e3d2-493b-8e42-ebc8097458f5",
   "metadata": {
    "scrolled": true
   },
   "outputs": [
    {
     "data": {
      "text/plain": [
       "isced11\n",
       "ED0-2    128934\n",
       "ED3_4    128934\n",
       "TOTAL    128934\n",
       "ED5-8    128402\n",
       "NRP       94772\n",
       "Name: count, dtype: int64"
      ]
     },
     "execution_count": 12,
     "metadata": {},
     "output_type": "execute_result"
    }
   ],
   "source": [
    "df['isced11'].value_counts()"
   ]
  },
  {
   "cell_type": "markdown",
   "id": "1cbf866a-f687-4bf6-99bd-0745f9c40bd1",
   "metadata": {},
   "source": [
    "### Dados \"T\" de sexo são apagados"
   ]
  },
  {
   "cell_type": "code",
   "execution_count": 25,
   "id": "c5ad3486-7e69-4a1f-bf79-c0f562372372",
   "metadata": {},
   "outputs": [],
   "source": [
    "df = df[df['sex'] != 'T']\n",
    "print(df['sex'].unique())"
   ]
  },
  {
   "cell_type": "markdown",
   "id": "0fdd846e-464a-489e-964a-89c530a9275e",
   "metadata": {},
   "source": [
    "### Dados \"TOTAL\" de isced11 são apagados"
   ]
  },
  {
   "cell_type": "code",
   "execution_count": 28,
   "id": "e0c0698c-5e62-40c6-ae18-027a677bdf10",
   "metadata": {},
   "outputs": [
    {
     "name": "stdout",
     "output_type": "stream",
     "text": [
      "['ED0-2' 'ED3_4' 'ED5-8' 'NRP']\n"
     ]
    }
   ],
   "source": [
    "df = df[df['isced11'] != 'TOTAL']\n",
    "print(df['isced11'].unique())"
   ]
  },
  {
   "cell_type": "markdown",
   "id": "5bd98634-358e-496c-9a5b-6a7b0343c2ec",
   "metadata": {},
   "source": [
    "### Dados isced11 = \"NRP\" & value = NaN são apagados"
   ]
  },
  {
   "cell_type": "code",
   "execution_count": 30,
   "id": "f5c6184a-eee1-4c1b-93e3-be721965cc51",
   "metadata": {},
   "outputs": [],
   "source": [
    "df = df[~((df['isced11'] == 'NRP') & (df['value'].isnull()))]\n",
    "print(df[(df['isced11'] == 'NRP') & (df['value'].isnull())])"
   ]
  },
  {
   "cell_type": "code",
   "execution_count": 32,
   "id": "7d28b17f-d7d4-413a-a665-b5c09810209c",
   "metadata": {},
   "outputs": [
    {
     "name": "stdout",
     "output_type": "stream",
     "text": [
      "<class 'pandas.core.frame.DataFrame'>\n",
      "Index: 279808 entries, 0 to 604576\n",
      "Data columns (total 7 columns):\n",
      " #   Column     Non-Null Count   Dtype  \n",
      "---  ------     --------------   -----  \n",
      " 0   unit       279808 non-null  object \n",
      " 1   sex        279808 non-null  object \n",
      " 2   age        279808 non-null  object \n",
      " 3   isced11    279808 non-null  object \n",
      " 4   geography  279808 non-null  object \n",
      " 5   date       279808 non-null  int64  \n",
      " 6   value      180028 non-null  float64\n",
      "dtypes: float64(1), int64(1), object(5)\n",
      "memory usage: 17.1+ MB\n"
     ]
    }
   ],
   "source": [
    "df.info()"
   ]
  },
  {
   "cell_type": "code",
   "execution_count": 33,
   "id": "794afd24-5ac3-44a7-8a14-d5c46bf5a411",
   "metadata": {},
   "outputs": [
    {
     "data": {
      "text/plain": [
       "age\n",
       "Y15-74    9863\n",
       "Y15-64    9846\n",
       "Y15-59    9842\n",
       "Y15-39    9803\n",
       "Y25-74    9776\n",
       "Y20-64    9766\n",
       "Y25-64    9748\n",
       "Y25-59    9742\n",
       "Y25-54    9735\n",
       "Y15-24    9727\n",
       "Y25-49    9719\n",
       "Y40-64    9705\n",
       "Y50-74    9700\n",
       "Y40-59    9695\n",
       "Y25-39    9684\n",
       "Y50-64    9656\n",
       "Y50-59    9626\n",
       "Y55-64    9616\n",
       "Y25-29    9579\n",
       "Y20-24    9577\n",
       "Y35-39    9565\n",
       "Y30-34    9563\n",
       "Y40-44    9549\n",
       "Y45-49    9540\n",
       "Y50-54    9533\n",
       "Y55-59    9497\n",
       "Y65-69    9479\n",
       "Y60-64    9458\n",
       "Y15-19    9219\n",
       "Name: count, dtype: int64"
      ]
     },
     "execution_count": 33,
     "metadata": {},
     "output_type": "execute_result"
    }
   ],
   "source": [
    "df['age'].value_counts()"
   ]
  },
  {
   "cell_type": "code",
   "execution_count": 34,
   "id": "18c3e2ff-ecdc-4469-aa2b-861ea636ae60",
   "metadata": {},
   "outputs": [
    {
     "data": {
      "text/plain": [
       "geography\n",
       "UK           8577\n",
       "NL           8572\n",
       "DE           8497\n",
       "IE           8348\n",
       "EU15         8062\n",
       "DK           8020\n",
       "LU           7891\n",
       "EA19         7783\n",
       "EU27_2020    7693\n",
       "FR           7683\n",
       "EU28         7656\n",
       "SE           7592\n",
       "IT           7308\n",
       "CH           7301\n",
       "NO           7276\n",
       "ES           7236\n",
       "EL           7134\n",
       "BE           7134\n",
       "PT           7019\n",
       "IS           6999\n",
       "CZ           6980\n",
       "SI           6705\n",
       "HU           6700\n",
       "FI           6698\n",
       "HR           6667\n",
       "LV           6627\n",
       "SK           6612\n",
       "TR           6612\n",
       "CY           6612\n",
       "BG           6612\n",
       "MT           6612\n",
       "MK           6612\n",
       "LT           6612\n",
       "AT           6612\n",
       "EE           6610\n",
       "PL           6536\n",
       "RO           6536\n",
       "RS           6536\n",
       "ME           6536\n",
       "Name: count, dtype: int64"
      ]
     },
     "execution_count": 34,
     "metadata": {},
     "output_type": "execute_result"
    }
   ],
   "source": [
    "df['geography'].value_counts()"
   ]
  },
  {
   "cell_type": "code",
   "execution_count": 35,
   "id": "db157032-aae9-479a-bd32-70a9786eaa45",
   "metadata": {},
   "outputs": [
    {
     "data": {
      "text/plain": [
       "date\n",
       "2013    7532\n",
       "2015    7509\n",
       "2017    7505\n",
       "2010    7501\n",
       "2018    7499\n",
       "2016    7493\n",
       "2012    7493\n",
       "2014    7491\n",
       "2011    7486\n",
       "1987    7472\n",
       "1989    7472\n",
       "1988    7472\n",
       "1990    7472\n",
       "1991    7472\n",
       "2002    7456\n",
       "2019    7452\n",
       "2000    7426\n",
       "1986    7414\n",
       "2009    7411\n",
       "1998    7398\n",
       "1999    7395\n",
       "2008    7391\n",
       "2001    7375\n",
       "1985    7356\n",
       "1983    7356\n",
       "2003    7318\n",
       "2007    7302\n",
       "1984    7298\n",
       "2004    7292\n",
       "2006    7279\n",
       "2005    7274\n",
       "2020    7251\n",
       "1997    7191\n",
       "1996    7173\n",
       "1995    7172\n",
       "1992    7017\n",
       "1993    6992\n",
       "1994    6950\n",
       "Name: count, dtype: int64"
      ]
     },
     "execution_count": 35,
     "metadata": {},
     "output_type": "execute_result"
    }
   ],
   "source": [
    "df['date'].value_counts()"
   ]
  },
  {
   "cell_type": "code",
   "execution_count": null,
   "id": "37f0e44c-0e2a-408c-bab4-7c5e3d9ed869",
   "metadata": {},
   "outputs": [],
   "source": []
  }
 ],
 "metadata": {
  "kernelspec": {
   "display_name": "Python 3 (ipykernel)",
   "language": "python",
   "name": "python3"
  },
  "language_info": {
   "codemirror_mode": {
    "name": "ipython",
    "version": 3
   },
   "file_extension": ".py",
   "mimetype": "text/x-python",
   "name": "python",
   "nbconvert_exporter": "python",
   "pygments_lexer": "ipython3",
   "version": "3.9.19"
  }
 },
 "nbformat": 4,
 "nbformat_minor": 5
}
