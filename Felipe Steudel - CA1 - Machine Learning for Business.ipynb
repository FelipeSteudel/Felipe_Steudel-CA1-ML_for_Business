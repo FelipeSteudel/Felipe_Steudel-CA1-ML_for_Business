{
 "cells": [
  {
   "cell_type": "code",
   "execution_count": 1,
   "id": "9f605948-37bf-4e32-b095-8370e17c93ab",
   "metadata": {},
   "outputs": [],
   "source": [
    "import pandas as pd \n",
    "import numpy as np\n",
    "\n",
    "import warnings\n",
    "warnings.filterwarnings('ignore')"
   ]
  },
  {
   "cell_type": "code",
   "execution_count": 2,
   "id": "54bc416c-69b1-4bee-b06f-b5ae127e5a24",
   "metadata": {},
   "outputs": [],
   "source": [
    "df = pd.read_csv(\"population_by_education_level.csv\")"
   ]
  },
  {
   "cell_type": "code",
   "execution_count": 3,
   "id": "e918164f-fa73-49bb-b80f-3125ce31e31f",
   "metadata": {},
   "outputs": [
    {
     "data": {
      "text/html": [
       "<div>\n",
       "<style scoped>\n",
       "    .dataframe tbody tr th:only-of-type {\n",
       "        vertical-align: middle;\n",
       "    }\n",
       "\n",
       "    .dataframe tbody tr th {\n",
       "        vertical-align: top;\n",
       "    }\n",
       "\n",
       "    .dataframe thead th {\n",
       "        text-align: right;\n",
       "    }\n",
       "</style>\n",
       "<table border=\"1\" class=\"dataframe\">\n",
       "  <thead>\n",
       "    <tr style=\"text-align: right;\">\n",
       "      <th></th>\n",
       "      <th>unit</th>\n",
       "      <th>sex</th>\n",
       "      <th>age</th>\n",
       "      <th>isced11</th>\n",
       "      <th>geography</th>\n",
       "      <th>date</th>\n",
       "      <th>value</th>\n",
       "    </tr>\n",
       "  </thead>\n",
       "  <tbody>\n",
       "    <tr>\n",
       "      <th>0</th>\n",
       "      <td>THS</td>\n",
       "      <td>F</td>\n",
       "      <td>Y15-19</td>\n",
       "      <td>ED0-2</td>\n",
       "      <td>AT</td>\n",
       "      <td>2020</td>\n",
       "      <td>149.8</td>\n",
       "    </tr>\n",
       "    <tr>\n",
       "      <th>1</th>\n",
       "      <td>THS</td>\n",
       "      <td>F</td>\n",
       "      <td>Y15-19</td>\n",
       "      <td>ED0-2</td>\n",
       "      <td>BE</td>\n",
       "      <td>2020</td>\n",
       "      <td>247.9</td>\n",
       "    </tr>\n",
       "    <tr>\n",
       "      <th>2</th>\n",
       "      <td>THS</td>\n",
       "      <td>F</td>\n",
       "      <td>Y15-19</td>\n",
       "      <td>ED0-2</td>\n",
       "      <td>BG</td>\n",
       "      <td>2020</td>\n",
       "      <td>128.4</td>\n",
       "    </tr>\n",
       "    <tr>\n",
       "      <th>3</th>\n",
       "      <td>THS</td>\n",
       "      <td>F</td>\n",
       "      <td>Y15-19</td>\n",
       "      <td>ED0-2</td>\n",
       "      <td>CH</td>\n",
       "      <td>2020</td>\n",
       "      <td>168.2</td>\n",
       "    </tr>\n",
       "    <tr>\n",
       "      <th>4</th>\n",
       "      <td>THS</td>\n",
       "      <td>F</td>\n",
       "      <td>Y15-19</td>\n",
       "      <td>ED0-2</td>\n",
       "      <td>CY</td>\n",
       "      <td>2020</td>\n",
       "      <td>16.8</td>\n",
       "    </tr>\n",
       "  </tbody>\n",
       "</table>\n",
       "</div>"
      ],
      "text/plain": [
       "  unit sex     age isced11 geography  date  value\n",
       "0  THS   F  Y15-19   ED0-2        AT  2020  149.8\n",
       "1  THS   F  Y15-19   ED0-2        BE  2020  247.9\n",
       "2  THS   F  Y15-19   ED0-2        BG  2020  128.4\n",
       "3  THS   F  Y15-19   ED0-2        CH  2020  168.2\n",
       "4  THS   F  Y15-19   ED0-2        CY  2020   16.8"
      ]
     },
     "execution_count": 3,
     "metadata": {},
     "output_type": "execute_result"
    }
   ],
   "source": [
    "df.head()"
   ]
  },
  {
   "cell_type": "code",
   "execution_count": 4,
   "id": "d7cba265-b09c-49a3-99d8-84380ebf0d32",
   "metadata": {},
   "outputs": [
    {
     "data": {
      "text/html": [
       "<div>\n",
       "<style scoped>\n",
       "    .dataframe tbody tr th:only-of-type {\n",
       "        vertical-align: middle;\n",
       "    }\n",
       "\n",
       "    .dataframe tbody tr th {\n",
       "        vertical-align: top;\n",
       "    }\n",
       "\n",
       "    .dataframe thead th {\n",
       "        text-align: right;\n",
       "    }\n",
       "</style>\n",
       "<table border=\"1\" class=\"dataframe\">\n",
       "  <thead>\n",
       "    <tr style=\"text-align: right;\">\n",
       "      <th></th>\n",
       "      <th>unit</th>\n",
       "      <th>sex</th>\n",
       "      <th>age</th>\n",
       "      <th>isced11</th>\n",
       "      <th>geography</th>\n",
       "      <th>date</th>\n",
       "      <th>value</th>\n",
       "    </tr>\n",
       "  </thead>\n",
       "  <tbody>\n",
       "    <tr>\n",
       "      <th>609971</th>\n",
       "      <td>THS</td>\n",
       "      <td>T</td>\n",
       "      <td>Y65-69</td>\n",
       "      <td>TOTAL</td>\n",
       "      <td>SE</td>\n",
       "      <td>1983</td>\n",
       "      <td>NaN</td>\n",
       "    </tr>\n",
       "    <tr>\n",
       "      <th>609972</th>\n",
       "      <td>THS</td>\n",
       "      <td>T</td>\n",
       "      <td>Y65-69</td>\n",
       "      <td>TOTAL</td>\n",
       "      <td>SI</td>\n",
       "      <td>1983</td>\n",
       "      <td>NaN</td>\n",
       "    </tr>\n",
       "    <tr>\n",
       "      <th>609973</th>\n",
       "      <td>THS</td>\n",
       "      <td>T</td>\n",
       "      <td>Y65-69</td>\n",
       "      <td>TOTAL</td>\n",
       "      <td>SK</td>\n",
       "      <td>1983</td>\n",
       "      <td>NaN</td>\n",
       "    </tr>\n",
       "    <tr>\n",
       "      <th>609974</th>\n",
       "      <td>THS</td>\n",
       "      <td>T</td>\n",
       "      <td>Y65-69</td>\n",
       "      <td>TOTAL</td>\n",
       "      <td>TR</td>\n",
       "      <td>1983</td>\n",
       "      <td>NaN</td>\n",
       "    </tr>\n",
       "    <tr>\n",
       "      <th>609975</th>\n",
       "      <td>THS</td>\n",
       "      <td>T</td>\n",
       "      <td>Y65-69</td>\n",
       "      <td>TOTAL</td>\n",
       "      <td>UK</td>\n",
       "      <td>1983</td>\n",
       "      <td>2532.5</td>\n",
       "    </tr>\n",
       "  </tbody>\n",
       "</table>\n",
       "</div>"
      ],
      "text/plain": [
       "       unit sex     age isced11 geography  date   value\n",
       "609971  THS   T  Y65-69   TOTAL        SE  1983     NaN\n",
       "609972  THS   T  Y65-69   TOTAL        SI  1983     NaN\n",
       "609973  THS   T  Y65-69   TOTAL        SK  1983     NaN\n",
       "609974  THS   T  Y65-69   TOTAL        TR  1983     NaN\n",
       "609975  THS   T  Y65-69   TOTAL        UK  1983  2532.5"
      ]
     },
     "execution_count": 4,
     "metadata": {},
     "output_type": "execute_result"
    }
   ],
   "source": [
    "df.tail()"
   ]
  },
  {
   "cell_type": "code",
   "execution_count": 5,
   "id": "86d9306f-3f2c-45b8-8a56-81fbb12ad3d1",
   "metadata": {},
   "outputs": [
    {
     "data": {
      "text/plain": [
       "(609976, 7)"
      ]
     },
     "execution_count": 5,
     "metadata": {},
     "output_type": "execute_result"
    }
   ],
   "source": [
    "df.shape"
   ]
  },
  {
   "cell_type": "code",
   "execution_count": 6,
   "id": "2423b331-c159-4905-95a6-7e310b4cc44a",
   "metadata": {},
   "outputs": [
    {
     "name": "stdout",
     "output_type": "stream",
     "text": [
      "<class 'pandas.core.frame.DataFrame'>\n",
      "RangeIndex: 609976 entries, 0 to 609975\n",
      "Data columns (total 7 columns):\n",
      " #   Column     Non-Null Count   Dtype  \n",
      "---  ------     --------------   -----  \n",
      " 0   unit       609976 non-null  object \n",
      " 1   sex        609976 non-null  object \n",
      " 2   age        609976 non-null  object \n",
      " 3   isced11    609976 non-null  object \n",
      " 4   geography  609976 non-null  object \n",
      " 5   date       609976 non-null  int64  \n",
      " 6   value      361370 non-null  float64\n",
      "dtypes: float64(1), int64(1), object(5)\n",
      "memory usage: 32.6+ MB\n"
     ]
    }
   ],
   "source": [
    "df.info()"
   ]
  },
  {
   "cell_type": "code",
   "execution_count": 7,
   "id": "3114687a-fe6a-478b-9dc2-b2772e738218",
   "metadata": {},
   "outputs": [
    {
     "data": {
      "text/html": [
       "<div>\n",
       "<style scoped>\n",
       "    .dataframe tbody tr th:only-of-type {\n",
       "        vertical-align: middle;\n",
       "    }\n",
       "\n",
       "    .dataframe tbody tr th {\n",
       "        vertical-align: top;\n",
       "    }\n",
       "\n",
       "    .dataframe thead th {\n",
       "        text-align: right;\n",
       "    }\n",
       "</style>\n",
       "<table border=\"1\" class=\"dataframe\">\n",
       "  <thead>\n",
       "    <tr style=\"text-align: right;\">\n",
       "      <th></th>\n",
       "      <th>date</th>\n",
       "      <th>value</th>\n",
       "    </tr>\n",
       "  </thead>\n",
       "  <tbody>\n",
       "    <tr>\n",
       "      <th>count</th>\n",
       "      <td>609976.000000</td>\n",
       "      <td>361370.000000</td>\n",
       "    </tr>\n",
       "    <tr>\n",
       "      <th>mean</th>\n",
       "      <td>2001.500000</td>\n",
       "      <td>4437.056919</td>\n",
       "    </tr>\n",
       "    <tr>\n",
       "      <th>std</th>\n",
       "      <td>10.965865</td>\n",
       "      <td>16716.155159</td>\n",
       "    </tr>\n",
       "    <tr>\n",
       "      <th>min</th>\n",
       "      <td>1983.000000</td>\n",
       "      <td>0.400000</td>\n",
       "    </tr>\n",
       "    <tr>\n",
       "      <th>25%</th>\n",
       "      <td>1992.000000</td>\n",
       "      <td>84.500000</td>\n",
       "    </tr>\n",
       "    <tr>\n",
       "      <th>50%</th>\n",
       "      <td>2001.500000</td>\n",
       "      <td>400.050000</td>\n",
       "    </tr>\n",
       "    <tr>\n",
       "      <th>75%</th>\n",
       "      <td>2011.000000</td>\n",
       "      <td>1947.575000</td>\n",
       "    </tr>\n",
       "    <tr>\n",
       "      <th>max</th>\n",
       "      <td>2020.000000</td>\n",
       "      <td>380593.300000</td>\n",
       "    </tr>\n",
       "  </tbody>\n",
       "</table>\n",
       "</div>"
      ],
      "text/plain": [
       "                date          value\n",
       "count  609976.000000  361370.000000\n",
       "mean     2001.500000    4437.056919\n",
       "std        10.965865   16716.155159\n",
       "min      1983.000000       0.400000\n",
       "25%      1992.000000      84.500000\n",
       "50%      2001.500000     400.050000\n",
       "75%      2011.000000    1947.575000\n",
       "max      2020.000000  380593.300000"
      ]
     },
     "execution_count": 7,
     "metadata": {},
     "output_type": "execute_result"
    }
   ],
   "source": [
    "df.describe()"
   ]
  },
  {
   "cell_type": "code",
   "execution_count": 8,
   "id": "11520a9c-634a-4ca7-81b8-53402e8627f1",
   "metadata": {},
   "outputs": [
    {
     "data": {
      "text/plain": [
       "unit              0\n",
       "sex               0\n",
       "age               0\n",
       "isced11           0\n",
       "geography         0\n",
       "date              0\n",
       "value        248606\n",
       "dtype: int64"
      ]
     },
     "execution_count": 8,
     "metadata": {},
     "output_type": "execute_result"
    }
   ],
   "source": [
    "df.isnull().sum()"
   ]
  },
  {
   "cell_type": "code",
   "execution_count": null,
   "id": "a3bcf6fd-8d73-4634-9e74-f89f4b3f4494",
   "metadata": {},
   "outputs": [],
   "source": []
  }
 ],
 "metadata": {
  "kernelspec": {
   "display_name": "Python 3 (ipykernel)",
   "language": "python",
   "name": "python3"
  },
  "language_info": {
   "codemirror_mode": {
    "name": "ipython",
    "version": 3
   },
   "file_extension": ".py",
   "mimetype": "text/x-python",
   "name": "python",
   "nbconvert_exporter": "python",
   "pygments_lexer": "ipython3",
   "version": "3.9.19"
  }
 },
 "nbformat": 4,
 "nbformat_minor": 5
}
