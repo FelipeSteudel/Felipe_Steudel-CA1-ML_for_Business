{
 "cells": [
  {
   "cell_type": "code",
   "execution_count": 1,
   "id": "9f605948-37bf-4e32-b095-8370e17c93ab",
   "metadata": {},
   "outputs": [],
   "source": [
    "import pandas as pd \n",
    "import numpy as np\n",
    "\n",
    "import warnings\n",
    "warnings.filterwarnings('ignore')"
   ]
  },
  {
   "cell_type": "code",
   "execution_count": 2,
   "id": "54bc416c-69b1-4bee-b06f-b5ae127e5a24",
   "metadata": {},
   "outputs": [],
   "source": [
    "df = pd.read_csv(\"population_by_education_level.csv\")"
   ]
  },
  {
   "cell_type": "code",
   "execution_count": 3,
   "id": "e918164f-fa73-49bb-b80f-3125ce31e31f",
   "metadata": {},
   "outputs": [
    {
     "data": {
      "text/html": [
       "<div>\n",
       "<style scoped>\n",
       "    .dataframe tbody tr th:only-of-type {\n",
       "        vertical-align: middle;\n",
       "    }\n",
       "\n",
       "    .dataframe tbody tr th {\n",
       "        vertical-align: top;\n",
       "    }\n",
       "\n",
       "    .dataframe thead th {\n",
       "        text-align: right;\n",
       "    }\n",
       "</style>\n",
       "<table border=\"1\" class=\"dataframe\">\n",
       "  <thead>\n",
       "    <tr style=\"text-align: right;\">\n",
       "      <th></th>\n",
       "      <th>unit</th>\n",
       "      <th>sex</th>\n",
       "      <th>age</th>\n",
       "      <th>isced11</th>\n",
       "      <th>geography</th>\n",
       "      <th>date</th>\n",
       "      <th>value</th>\n",
       "    </tr>\n",
       "  </thead>\n",
       "  <tbody>\n",
       "    <tr>\n",
       "      <th>0</th>\n",
       "      <td>THS</td>\n",
       "      <td>F</td>\n",
       "      <td>Y15-19</td>\n",
       "      <td>ED0-2</td>\n",
       "      <td>AT</td>\n",
       "      <td>2020</td>\n",
       "      <td>149.8</td>\n",
       "    </tr>\n",
       "    <tr>\n",
       "      <th>1</th>\n",
       "      <td>THS</td>\n",
       "      <td>F</td>\n",
       "      <td>Y15-19</td>\n",
       "      <td>ED0-2</td>\n",
       "      <td>BE</td>\n",
       "      <td>2020</td>\n",
       "      <td>247.9</td>\n",
       "    </tr>\n",
       "    <tr>\n",
       "      <th>2</th>\n",
       "      <td>THS</td>\n",
       "      <td>F</td>\n",
       "      <td>Y15-19</td>\n",
       "      <td>ED0-2</td>\n",
       "      <td>BG</td>\n",
       "      <td>2020</td>\n",
       "      <td>128.4</td>\n",
       "    </tr>\n",
       "    <tr>\n",
       "      <th>3</th>\n",
       "      <td>THS</td>\n",
       "      <td>F</td>\n",
       "      <td>Y15-19</td>\n",
       "      <td>ED0-2</td>\n",
       "      <td>CH</td>\n",
       "      <td>2020</td>\n",
       "      <td>168.2</td>\n",
       "    </tr>\n",
       "    <tr>\n",
       "      <th>4</th>\n",
       "      <td>THS</td>\n",
       "      <td>F</td>\n",
       "      <td>Y15-19</td>\n",
       "      <td>ED0-2</td>\n",
       "      <td>CY</td>\n",
       "      <td>2020</td>\n",
       "      <td>16.8</td>\n",
       "    </tr>\n",
       "  </tbody>\n",
       "</table>\n",
       "</div>"
      ],
      "text/plain": [
       "  unit sex     age isced11 geography  date  value\n",
       "0  THS   F  Y15-19   ED0-2        AT  2020  149.8\n",
       "1  THS   F  Y15-19   ED0-2        BE  2020  247.9\n",
       "2  THS   F  Y15-19   ED0-2        BG  2020  128.4\n",
       "3  THS   F  Y15-19   ED0-2        CH  2020  168.2\n",
       "4  THS   F  Y15-19   ED0-2        CY  2020   16.8"
      ]
     },
     "execution_count": 3,
     "metadata": {},
     "output_type": "execute_result"
    }
   ],
   "source": [
    "df.head()"
   ]
  },
  {
   "cell_type": "code",
   "execution_count": 4,
   "id": "d7cba265-b09c-49a3-99d8-84380ebf0d32",
   "metadata": {},
   "outputs": [
    {
     "data": {
      "text/html": [
       "<div>\n",
       "<style scoped>\n",
       "    .dataframe tbody tr th:only-of-type {\n",
       "        vertical-align: middle;\n",
       "    }\n",
       "\n",
       "    .dataframe tbody tr th {\n",
       "        vertical-align: top;\n",
       "    }\n",
       "\n",
       "    .dataframe thead th {\n",
       "        text-align: right;\n",
       "    }\n",
       "</style>\n",
       "<table border=\"1\" class=\"dataframe\">\n",
       "  <thead>\n",
       "    <tr style=\"text-align: right;\">\n",
       "      <th></th>\n",
       "      <th>unit</th>\n",
       "      <th>sex</th>\n",
       "      <th>age</th>\n",
       "      <th>isced11</th>\n",
       "      <th>geography</th>\n",
       "      <th>date</th>\n",
       "      <th>value</th>\n",
       "    </tr>\n",
       "  </thead>\n",
       "  <tbody>\n",
       "    <tr>\n",
       "      <th>609971</th>\n",
       "      <td>THS</td>\n",
       "      <td>T</td>\n",
       "      <td>Y65-69</td>\n",
       "      <td>TOTAL</td>\n",
       "      <td>SE</td>\n",
       "      <td>1983</td>\n",
       "      <td>NaN</td>\n",
       "    </tr>\n",
       "    <tr>\n",
       "      <th>609972</th>\n",
       "      <td>THS</td>\n",
       "      <td>T</td>\n",
       "      <td>Y65-69</td>\n",
       "      <td>TOTAL</td>\n",
       "      <td>SI</td>\n",
       "      <td>1983</td>\n",
       "      <td>NaN</td>\n",
       "    </tr>\n",
       "    <tr>\n",
       "      <th>609973</th>\n",
       "      <td>THS</td>\n",
       "      <td>T</td>\n",
       "      <td>Y65-69</td>\n",
       "      <td>TOTAL</td>\n",
       "      <td>SK</td>\n",
       "      <td>1983</td>\n",
       "      <td>NaN</td>\n",
       "    </tr>\n",
       "    <tr>\n",
       "      <th>609974</th>\n",
       "      <td>THS</td>\n",
       "      <td>T</td>\n",
       "      <td>Y65-69</td>\n",
       "      <td>TOTAL</td>\n",
       "      <td>TR</td>\n",
       "      <td>1983</td>\n",
       "      <td>NaN</td>\n",
       "    </tr>\n",
       "    <tr>\n",
       "      <th>609975</th>\n",
       "      <td>THS</td>\n",
       "      <td>T</td>\n",
       "      <td>Y65-69</td>\n",
       "      <td>TOTAL</td>\n",
       "      <td>UK</td>\n",
       "      <td>1983</td>\n",
       "      <td>2532.5</td>\n",
       "    </tr>\n",
       "  </tbody>\n",
       "</table>\n",
       "</div>"
      ],
      "text/plain": [
       "       unit sex     age isced11 geography  date   value\n",
       "609971  THS   T  Y65-69   TOTAL        SE  1983     NaN\n",
       "609972  THS   T  Y65-69   TOTAL        SI  1983     NaN\n",
       "609973  THS   T  Y65-69   TOTAL        SK  1983     NaN\n",
       "609974  THS   T  Y65-69   TOTAL        TR  1983     NaN\n",
       "609975  THS   T  Y65-69   TOTAL        UK  1983  2532.5"
      ]
     },
     "execution_count": 4,
     "metadata": {},
     "output_type": "execute_result"
    }
   ],
   "source": [
    "df.tail()"
   ]
  },
  {
   "cell_type": "code",
   "execution_count": 5,
   "id": "86d9306f-3f2c-45b8-8a56-81fbb12ad3d1",
   "metadata": {},
   "outputs": [
    {
     "data": {
      "text/plain": [
       "(609976, 7)"
      ]
     },
     "execution_count": 5,
     "metadata": {},
     "output_type": "execute_result"
    }
   ],
   "source": [
    "df.shape"
   ]
  },
  {
   "cell_type": "code",
   "execution_count": 6,
   "id": "2423b331-c159-4905-95a6-7e310b4cc44a",
   "metadata": {},
   "outputs": [
    {
     "name": "stdout",
     "output_type": "stream",
     "text": [
      "<class 'pandas.core.frame.DataFrame'>\n",
      "RangeIndex: 609976 entries, 0 to 609975\n",
      "Data columns (total 7 columns):\n",
      " #   Column     Non-Null Count   Dtype  \n",
      "---  ------     --------------   -----  \n",
      " 0   unit       609976 non-null  object \n",
      " 1   sex        609976 non-null  object \n",
      " 2   age        609976 non-null  object \n",
      " 3   isced11    609976 non-null  object \n",
      " 4   geography  609976 non-null  object \n",
      " 5   date       609976 non-null  int64  \n",
      " 6   value      361370 non-null  float64\n",
      "dtypes: float64(1), int64(1), object(5)\n",
      "memory usage: 32.6+ MB\n"
     ]
    }
   ],
   "source": [
    "df.info()"
   ]
  },
  {
   "cell_type": "code",
   "execution_count": 7,
   "id": "3114687a-fe6a-478b-9dc2-b2772e738218",
   "metadata": {},
   "outputs": [
    {
     "data": {
      "text/html": [
       "<div>\n",
       "<style scoped>\n",
       "    .dataframe tbody tr th:only-of-type {\n",
       "        vertical-align: middle;\n",
       "    }\n",
       "\n",
       "    .dataframe tbody tr th {\n",
       "        vertical-align: top;\n",
       "    }\n",
       "\n",
       "    .dataframe thead th {\n",
       "        text-align: right;\n",
       "    }\n",
       "</style>\n",
       "<table border=\"1\" class=\"dataframe\">\n",
       "  <thead>\n",
       "    <tr style=\"text-align: right;\">\n",
       "      <th></th>\n",
       "      <th>date</th>\n",
       "      <th>value</th>\n",
       "    </tr>\n",
       "  </thead>\n",
       "  <tbody>\n",
       "    <tr>\n",
       "      <th>count</th>\n",
       "      <td>609976.000000</td>\n",
       "      <td>361370.000000</td>\n",
       "    </tr>\n",
       "    <tr>\n",
       "      <th>mean</th>\n",
       "      <td>2001.500000</td>\n",
       "      <td>4437.056919</td>\n",
       "    </tr>\n",
       "    <tr>\n",
       "      <th>std</th>\n",
       "      <td>10.965865</td>\n",
       "      <td>16716.155159</td>\n",
       "    </tr>\n",
       "    <tr>\n",
       "      <th>min</th>\n",
       "      <td>1983.000000</td>\n",
       "      <td>0.400000</td>\n",
       "    </tr>\n",
       "    <tr>\n",
       "      <th>25%</th>\n",
       "      <td>1992.000000</td>\n",
       "      <td>84.500000</td>\n",
       "    </tr>\n",
       "    <tr>\n",
       "      <th>50%</th>\n",
       "      <td>2001.500000</td>\n",
       "      <td>400.050000</td>\n",
       "    </tr>\n",
       "    <tr>\n",
       "      <th>75%</th>\n",
       "      <td>2011.000000</td>\n",
       "      <td>1947.575000</td>\n",
       "    </tr>\n",
       "    <tr>\n",
       "      <th>max</th>\n",
       "      <td>2020.000000</td>\n",
       "      <td>380593.300000</td>\n",
       "    </tr>\n",
       "  </tbody>\n",
       "</table>\n",
       "</div>"
      ],
      "text/plain": [
       "                date          value\n",
       "count  609976.000000  361370.000000\n",
       "mean     2001.500000    4437.056919\n",
       "std        10.965865   16716.155159\n",
       "min      1983.000000       0.400000\n",
       "25%      1992.000000      84.500000\n",
       "50%      2001.500000     400.050000\n",
       "75%      2011.000000    1947.575000\n",
       "max      2020.000000  380593.300000"
      ]
     },
     "execution_count": 7,
     "metadata": {},
     "output_type": "execute_result"
    }
   ],
   "source": [
    "df.describe()"
   ]
  },
  {
   "cell_type": "code",
   "execution_count": 8,
   "id": "11520a9c-634a-4ca7-81b8-53402e8627f1",
   "metadata": {},
   "outputs": [
    {
     "data": {
      "text/plain": [
       "unit              0\n",
       "sex               0\n",
       "age               0\n",
       "isced11           0\n",
       "geography         0\n",
       "date              0\n",
       "value        248606\n",
       "dtype: int64"
      ]
     },
     "execution_count": 8,
     "metadata": {},
     "output_type": "execute_result"
    }
   ],
   "source": [
    "df.isnull().sum()"
   ]
  },
  {
   "cell_type": "markdown",
   "id": "b7397e77-4d9f-405d-8bad-af38c0e0cf98",
   "metadata": {},
   "source": [
    "## Exploração Inicial dos Dados"
   ]
  },
  {
   "cell_type": "markdown",
   "id": "49b7fa86-0dc7-42b4-ac3b-d9896510975b",
   "metadata": {},
   "source": [
    "Existem muitos dados \"T\" na variavel sexo, que representa a soma dos dados de ambos os sexos (M + F). Essa é a explicação mais comum em bases do Eurostat."
   ]
  },
  {
   "cell_type": "code",
   "execution_count": 9,
   "id": "b463fc18-fe8c-440a-9515-e06e78b23590",
   "metadata": {},
   "outputs": [
    {
     "data": {
      "text/plain": [
       "sex\n",
       "T    203680\n",
       "M    203376\n",
       "F    202920\n",
       "Name: count, dtype: int64"
      ]
     },
     "execution_count": 9,
     "metadata": {},
     "output_type": "execute_result"
    }
   ],
   "source": [
    "df['sex'].value_counts()"
   ]
  },
  {
   "cell_type": "markdown",
   "id": "421aea1e-7908-4e1a-a8d3-ffcc34537dc7",
   "metadata": {},
   "source": [
    "Existem valores \"TOTAL\" na variavel isced11, representando a soma dos dados total das faixas de Educacionais segunda a International Standard Classification of Education (ISCED11)\n",
    "Os valores \"NRP\" representam \"No Response Provided\", Isso indica que, para aquele registro, não houve uma resposta válida sobre o nível educacional. Pode ser um dado faltante."
   ]
  },
  {
   "cell_type": "code",
   "execution_count": 10,
   "id": "027d25bc-e3d2-493b-8e42-ebc8097458f5",
   "metadata": {
    "scrolled": true
   },
   "outputs": [
    {
     "data": {
      "text/plain": [
       "isced11\n",
       "ED0-2    128934\n",
       "ED3_4    128934\n",
       "TOTAL    128934\n",
       "ED5-8    128402\n",
       "NRP       94772\n",
       "Name: count, dtype: int64"
      ]
     },
     "execution_count": 10,
     "metadata": {},
     "output_type": "execute_result"
    }
   ],
   "source": [
    "df['isced11'].value_counts()"
   ]
  },
  {
   "cell_type": "markdown",
   "id": "a688c9fd-5bc9-4766-a555-083dd0648c66",
   "metadata": {},
   "source": [
    "Existem valores 'EU15', 'EA19', 'EU27_2020', 'EU28' que representam dados agregados de paises dentro União Europeia ou da Zona do Euro"
   ]
  },
  {
   "cell_type": "code",
   "execution_count": 11,
   "id": "84590bb5-52d5-4db7-bdcf-af096e565422",
   "metadata": {},
   "outputs": [
    {
     "data": {
      "text/plain": [
       "geography\n",
       "IE           16530\n",
       "EU28         16530\n",
       "SI           16530\n",
       "SE           16530\n",
       "PT           16530\n",
       "NO           16530\n",
       "NL           16530\n",
       "LU           16530\n",
       "IT           16530\n",
       "IS           16530\n",
       "BE           16530\n",
       "HU           16530\n",
       "FR           16530\n",
       "FI           16530\n",
       "UK           16530\n",
       "EU27_2020    16530\n",
       "EU15         16530\n",
       "CH           16530\n",
       "ES           16530\n",
       "EL           16530\n",
       "CZ           16530\n",
       "EA19         16530\n",
       "DE           16530\n",
       "DK           16530\n",
       "LV           16492\n",
       "AT           16340\n",
       "EE           16112\n",
       "HR           15960\n",
       "MT           14896\n",
       "LT           13908\n",
       "TR           13680\n",
       "RO           13642\n",
       "MK           13224\n",
       "CY           13224\n",
       "BG           13224\n",
       "SK           13224\n",
       "ME           13110\n",
       "PL           13110\n",
       "RS           13110\n",
       "Name: count, dtype: int64"
      ]
     },
     "execution_count": 11,
     "metadata": {},
     "output_type": "execute_result"
    }
   ],
   "source": [
    "df['geography'].value_counts()"
   ]
  },
  {
   "cell_type": "markdown",
   "id": "1cbf866a-f687-4bf6-99bd-0745f9c40bd1",
   "metadata": {},
   "source": [
    "### Dados \"T\" de sexo são apagados"
   ]
  },
  {
   "cell_type": "code",
   "execution_count": 12,
   "id": "c5ad3486-7e69-4a1f-bf79-c0f562372372",
   "metadata": {},
   "outputs": [
    {
     "name": "stdout",
     "output_type": "stream",
     "text": [
      "['F' 'M']\n"
     ]
    }
   ],
   "source": [
    "df = df[df['sex'] != 'T']\n",
    "print(df['sex'].unique())"
   ]
  },
  {
   "cell_type": "markdown",
   "id": "0fdd846e-464a-489e-964a-89c530a9275e",
   "metadata": {},
   "source": [
    "### Dados \"TOTAL\" de isced11 são apagados"
   ]
  },
  {
   "cell_type": "code",
   "execution_count": 13,
   "id": "e0c0698c-5e62-40c6-ae18-027a677bdf10",
   "metadata": {
    "scrolled": true
   },
   "outputs": [
    {
     "name": "stdout",
     "output_type": "stream",
     "text": [
      "['ED0-2' 'ED3_4' 'ED5-8' 'NRP']\n"
     ]
    }
   ],
   "source": [
    "df = df[df['isced11'] != 'TOTAL']\n",
    "print(df['isced11'].unique())"
   ]
  },
  {
   "cell_type": "markdown",
   "id": "8f27df6b-f375-4dd1-b30b-5d2fb8038de3",
   "metadata": {},
   "source": [
    "### Os valores agregados da União Européia e zona do Euro são apagados"
   ]
  },
  {
   "cell_type": "code",
   "execution_count": 14,
   "id": "37f0e44c-0e2a-408c-bab4-7c5e3d9ed869",
   "metadata": {},
   "outputs": [
    {
     "name": "stdout",
     "output_type": "stream",
     "text": [
      "['AT' 'BE' 'BG' 'CH' 'CY' 'CZ' 'DE' 'DK' 'EE' 'EL' 'ES' 'FI' 'FR' 'HR'\n",
      " 'HU' 'IE' 'IS' 'IT' 'LT' 'LU' 'LV' 'ME' 'MK' 'MT' 'NL' 'NO' 'PL' 'PT'\n",
      " 'RO' 'RS' 'SE' 'SI' 'SK' 'TR' 'UK']\n"
     ]
    }
   ],
   "source": [
    "df = df[~df['geography'].isin(['EU15', 'EA19', 'EU27_2020', 'EU28'])]\n",
    "print(df['geography'].unique())"
   ]
  },
  {
   "cell_type": "markdown",
   "id": "f24c102e-9988-4812-be71-763e2cf06533",
   "metadata": {},
   "source": [
    "### Apaga todos os registros NaN de Value"
   ]
  },
  {
   "cell_type": "code",
   "execution_count": 15,
   "id": "f5c6184a-eee1-4c1b-93e3-be721965cc51",
   "metadata": {},
   "outputs": [],
   "source": [
    "df = df.dropna(subset=['value'])"
   ]
  },
  {
   "cell_type": "code",
   "execution_count": 16,
   "id": "ca625965-a500-44c9-8ea8-6d85e24c1045",
   "metadata": {},
   "outputs": [
    {
     "name": "stdout",
     "output_type": "stream",
     "text": [
      "<class 'pandas.core.frame.DataFrame'>\n",
      "Index: 160846 entries, 0 to 604576\n",
      "Data columns (total 7 columns):\n",
      " #   Column     Non-Null Count   Dtype  \n",
      "---  ------     --------------   -----  \n",
      " 0   unit       160846 non-null  object \n",
      " 1   sex        160846 non-null  object \n",
      " 2   age        160846 non-null  object \n",
      " 3   isced11    160846 non-null  object \n",
      " 4   geography  160846 non-null  object \n",
      " 5   date       160846 non-null  int64  \n",
      " 6   value      160846 non-null  float64\n",
      "dtypes: float64(1), int64(1), object(5)\n",
      "memory usage: 9.8+ MB\n"
     ]
    }
   ],
   "source": [
    "df.info()"
   ]
  },
  {
   "cell_type": "code",
   "execution_count": 17,
   "id": "39974837-98f5-483d-ba8d-2b0d70ae6329",
   "metadata": {},
   "outputs": [
    {
     "data": {
      "text/plain": [
       "age\n",
       "Y15-74    5815\n",
       "Y15-64    5798\n",
       "Y15-59    5794\n",
       "Y15-39    5755\n",
       "Y25-74    5728\n",
       "Y20-64    5718\n",
       "Y25-64    5700\n",
       "Y25-59    5694\n",
       "Y25-54    5687\n",
       "Y25-49    5671\n",
       "Y40-64    5657\n",
       "Y50-74    5650\n",
       "Y40-59    5646\n",
       "Y25-39    5636\n",
       "Y15-24    5614\n",
       "Y50-64    5603\n",
       "Y50-59    5569\n",
       "Y55-64    5552\n",
       "Y25-29    5516\n",
       "Y30-34    5492\n",
       "Y35-39    5480\n",
       "Y50-54    5472\n",
       "Y40-44    5462\n",
       "Y45-49    5462\n",
       "Y20-24    5456\n",
       "Y55-59    5421\n",
       "Y60-64    5366\n",
       "Y65-69    5342\n",
       "Y15-19    4090\n",
       "Name: count, dtype: int64"
      ]
     },
     "execution_count": 17,
     "metadata": {},
     "output_type": "execute_result"
    }
   ],
   "source": [
    "df['age'].value_counts()"
   ]
  },
  {
   "cell_type": "code",
   "execution_count": 18,
   "id": "d271d5ac-6cf9-44b0-9064-ae3cc404437a",
   "metadata": {},
   "outputs": [
    {
     "data": {
      "text/plain": [
       "date\n",
       "2013    6549\n",
       "2015    6526\n",
       "2017    6523\n",
       "2018    6517\n",
       "2016    6517\n",
       "2014    6507\n",
       "2012    6503\n",
       "2011    6497\n",
       "2019    6471\n",
       "2010    6338\n",
       "2020    6222\n",
       "2009    6077\n",
       "2008    6056\n",
       "2007    5978\n",
       "2006    5964\n",
       "2002    5718\n",
       "2000    5621\n",
       "2005    5615\n",
       "2003    5565\n",
       "2004    5564\n",
       "2001    5557\n",
       "1999    5348\n",
       "1998    4337\n",
       "1997    4140\n",
       "1996    3437\n",
       "1995    2747\n",
       "1993    2115\n",
       "1994    2077\n",
       "1992    1960\n",
       "1988     696\n",
       "1987     696\n",
       "1991     696\n",
       "1989     696\n",
       "1990     696\n",
       "1986     638\n",
       "1985     580\n",
       "1983     580\n",
       "1984     522\n",
       "Name: count, dtype: int64"
      ]
     },
     "execution_count": 18,
     "metadata": {},
     "output_type": "execute_result"
    }
   ],
   "source": [
    "df['date'].value_counts()"
   ]
  },
  {
   "cell_type": "markdown",
   "id": "0ec3d446-27a9-402b-a26e-087e8d176252",
   "metadata": {},
   "source": [
    "## Pré-processamento e Implementação dos Algoritmos\n",
    "Antes de aplicar os algoritmos, é essencial padronizar os dados"
   ]
  },
  {
   "cell_type": "code",
   "execution_count": 19,
   "id": "3d7b8c10-7969-4dd0-a8d4-17cfdec305ad",
   "metadata": {},
   "outputs": [],
   "source": [
    "from sklearn.preprocessing import StandardScaler\n",
    "\n",
    "scaler = StandardScaler()\n",
    "\n",
    "X = df[['value']]\n",
    "X_scaled = scaler.fit_transform(X)"
   ]
  },
  {
   "cell_type": "markdown",
   "id": "01583ba5-e856-4054-b418-603d07ceb3f2",
   "metadata": {},
   "source": [
    "### K-Means"
   ]
  },
  {
   "cell_type": "code",
   "execution_count": 20,
   "id": "48365542-4080-4790-9305-320c3788e68e",
   "metadata": {},
   "outputs": [
    {
     "name": "stdout",
     "output_type": "stream",
     "text": [
      "K-Means - Silhouette Score: 0.787\n",
      "K-Means - Davies-Bouldin Index: 0.466\n"
     ]
    }
   ],
   "source": [
    "from sklearn.cluster import KMeans\n",
    "from sklearn.metrics import silhouette_score, davies_bouldin_score\n",
    "\n",
    "kmeans = KMeans(n_clusters=4, random_state=42)\n",
    "kmeans_labels = kmeans.fit_predict(X_scaled)\n",
    "\n",
    "silhouette_kmeans = silhouette_score(X_scaled, kmeans_labels)\n",
    "davies_kmeans = davies_bouldin_score(X_scaled, kmeans_labels)\n",
    "\n",
    "print(f\"K-Means - Silhouette Score: {silhouette_kmeans:.3f}\")\n",
    "print(f\"K-Means - Davies-Bouldin Index: {davies_kmeans:.3f}\")"
   ]
  },
  {
   "cell_type": "markdown",
   "id": "08f6f797-cbcb-4a01-b041-c98408e91b48",
   "metadata": {},
   "source": [
    "### DBSCAN"
   ]
  },
  {
   "cell_type": "code",
   "execution_count": 26,
   "id": "825b4a75-70e5-4b4b-942e-4a7896f4fd15",
   "metadata": {},
   "outputs": [
    {
     "name": "stdout",
     "output_type": "stream",
     "text": [
      "DBSCAN - Silhouette Score: N/A\n",
      "DBSCAN - Davies-Bouldin Index: N/A\n"
     ]
    }
   ],
   "source": [
    "from sklearn.cluster import DBSCAN\n",
    "\n",
    "df_sample = df.sample(n=10000, random_state=42)\n",
    "X_sample = scaler.fit_transform(df_sample[['value']])\n",
    "\n",
    "dbscan = DBSCAN(eps=1.5, min_samples=5, algorithm='ball_tree')\n",
    "dbscan_labels = dbscan.fit_predict(X_sample)\n",
    "\n",
    "# Remover outliers (-1) antes de calcular os scores\n",
    "filtered_data = X_sample[dbscan_labels != -1]\n",
    "filtered_labels = dbscan_labels[dbscan_labels != -1]\n",
    "\n",
    "if len(set(filtered_labels)) > 1:\n",
    "    silhouette_dbscan = silhouette_score(filtered_data, filtered_labels)\n",
    "    davies_dbscan = davies_bouldin_score(filtered_data, filtered_labels)\n",
    "else:\n",
    "    silhouette_dbscan = \"N/A\"\n",
    "    davies_dbscan = \"N/A\"\n",
    "\n",
    "print(f\"DBSCAN - Silhouette Score: {silhouette_dbscan}\")\n",
    "print(f\"DBSCAN - Davies-Bouldin Index: {davies_dbscan}\")"
   ]
  },
  {
   "cell_type": "code",
   "execution_count": null,
   "id": "03d412e6-eb29-4af7-adfb-2f46f929d81b",
   "metadata": {},
   "outputs": [],
   "source": []
  }
 ],
 "metadata": {
  "kernelspec": {
   "display_name": "Python 3 (ipykernel)",
   "language": "python",
   "name": "python3"
  },
  "language_info": {
   "codemirror_mode": {
    "name": "ipython",
    "version": 3
   },
   "file_extension": ".py",
   "mimetype": "text/x-python",
   "name": "python",
   "nbconvert_exporter": "python",
   "pygments_lexer": "ipython3",
   "version": "3.9.19"
  }
 },
 "nbformat": 4,
 "nbformat_minor": 5
}
